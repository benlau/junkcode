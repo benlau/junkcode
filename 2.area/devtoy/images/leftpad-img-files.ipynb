{
 "cells": [
  {
   "cell_type": "markdown",
   "metadata": {},
   "source": [
    "# Leftpad Image Files\n",
    "\n",
    "Add leading `0` to image files\n",
    "\n",
    "Remarks: [jscaffold](../../../1.project/jscaffold.md) is still under development. No official release yet"
   ]
  },
  {
   "cell_type": "code",
   "execution_count": null,
   "metadata": {},
   "outputs": [],
   "source": [
    "from jscaffold import form, EnvFileVar\n",
    "import glob\n",
    "import os\n",
    "import shutil\n",
    "\n",
    "folder = EnvFileVar('FOLDER', \".env\").local_path(\"directory\")\n",
    "pad = EnvFileVar('PAD', \".env\").defaults(\"3\")\n",
    "\n",
    "def left_pad(s, pad):\n",
    "    return s.zfill(pad)\n",
    "\n",
    "def script(log):\n",
    "    types = [\"*.jpg\", \"*.png\"]\n",
    "    res = [f for t in types for f in glob.glob(glob.escape(folder.value) + \"/\" + t) ]\n",
    "    for file in res:\n",
    "        (basename, ext) = os.path.splitext(os.path.basename(file))\n",
    "        dirname = os.path.dirname(file)\n",
    "        pad_value = int(pad.value)\n",
    "        src = file\n",
    "        dist = f\"{dirname}/{left_pad(basename, pad_value)}{ext}\"\n",
    "        shutil.move(src, dist)\n",
    "        log(f\"renamed {left_pad(basename, pad_value)}{ext}\")\n",
    "\n",
    "form([folder, pad], script)\n"
   ]
  }
 ],
 "metadata": {
  "kernelspec": {
   "display_name": "ipylivebash-dev",
   "language": "python",
   "name": "python3"
  },
  "language_info": {
   "codemirror_mode": {
    "name": "ipython",
    "version": 3
   },
   "file_extension": ".py",
   "mimetype": "text/x-python",
   "name": "python",
   "nbconvert_exporter": "python",
   "pygments_lexer": "ipython3",
   "version": "3.11.3"
  }
 },
 "nbformat": 4,
 "nbformat_minor": 2
}
