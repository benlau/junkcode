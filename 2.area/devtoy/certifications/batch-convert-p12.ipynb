{
 "cells": [
  {
   "cell_type": "markdown",
   "metadata": {},
   "source": [
    "# Batch Convert P12 to PEM\n",
    "\n",
    "Remarks: [jscaffold](../../../1.project/jscaffold.md) is still under development. No official release yet"
   ]
  },
  {
   "cell_type": "code",
   "execution_count": null,
   "metadata": {},
   "outputs": [],
   "source": [
    "title=\"Batch Convert P12 to Key and Cert\"\n",
    "from jscaffold import EnvFileVar, form\n",
    "\n",
    "folder = EnvFileVar(\"FOLDER\", \".env\").local_path(\"directory\")\n",
    "password = EnvFileVar(\"PASSWORD\", \".env\")\n",
    "\n",
    "script = \"\"\"\n",
    "set -e\n",
    ": ${FOLDER?}\n",
    ": ${PASSWORD?}\n",
    "cd ${FOLDER}\n",
    "\n",
    "for file in `ls *.p12`\n",
    "do\n",
    "    openssl pkcs12 -in ${file} -nodes -out ${file/p12/key} -nocerts \\\n",
    "         -provider legacy -provider default   -passin pass:${PASSWORD}\n",
    "    echo  ${file/p12/key} created\n",
    "    openssl pkcs12 -in ${file}  -clcerts -nokeys -out ${file/p12/cert} \\\n",
    "        -provider legacy -provider default  -passin pass:${PASSWORD}\n",
    "    echo ${file/p12/cert} created\n",
    "done\n",
    "\"\"\"\n",
    "form([folder, password], script).title(title)\n"
   ]
  }
 ],
 "metadata": {
  "kernelspec": {
   "display_name": "ipylivebash-dev",
   "language": "python",
   "name": "python3"
  },
  "language_info": {
   "codemirror_mode": {
    "name": "ipython",
    "version": 3
   },
   "file_extension": ".py",
   "mimetype": "text/x-python",
   "name": "python",
   "nbconvert_exporter": "python",
   "pygments_lexer": "ipython3",
   "version": "3.11.3"
  }
 },
 "nbformat": 4,
 "nbformat_minor": 2
}
