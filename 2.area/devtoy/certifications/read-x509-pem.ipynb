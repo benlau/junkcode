{
 "cells": [
  {
   "cell_type": "markdown",
   "metadata": {},
   "source": [
    "# Read X509 Certification in Human Format\n",
    "\n",
    "Remarks: [jscaffold](../../../1.project/jscaffold.md) is still under development. No official release yet"
   ]
  },
  {
   "cell_type": "code",
   "execution_count": null,
   "metadata": {},
   "outputs": [],
   "source": [
    "from jscaffold import form, EnvVar\n",
    "PEM_FILE = EnvVar(\"PEM_FILE\").local_path()\n",
    "script = \"\"\"\n",
    "openssl x509 -text -in $PEM_FILE\n",
    "\"\"\"\n",
    "form(PEM_FILE, script).title(\"Pick a pem file\")\n"
   ]
  },
  {
   "cell_type": "code",
   "execution_count": null,
   "metadata": {},
   "outputs": [],
   "source": [
    "from jscaffold import form, EnvVar\n",
    "\n",
    "script = \"\"\"\n",
    "TMP=`mktemp`\n",
    "echo \"$PEM\" > $TMP\n",
    "openssl x509 -text -in $TMP\n",
    "\"\"\"\n",
    "PEM = EnvVar(\"PEM\").multiline()\n",
    "form(PEM, script).save_changes(False).title(\"Paste PEM content here\")\n"
   ]
  }
 ],
 "metadata": {
  "kernelspec": {
   "display_name": "ipylivebash-dev",
   "language": "python",
   "name": "python3"
  },
  "language_info": {
   "codemirror_mode": {
    "name": "ipython",
    "version": 3
   },
   "file_extension": ".py",
   "mimetype": "text/x-python",
   "name": "python",
   "nbconvert_exporter": "python",
   "pygments_lexer": "ipython3",
   "version": "3.11.3"
  }
 },
 "nbformat": 4,
 "nbformat_minor": 2
}
