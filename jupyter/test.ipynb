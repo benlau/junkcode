{
 "cells": [
  {
   "cell_type": "code",
   "execution_count": 1,
   "metadata": {},
   "outputs": [
    {
     "name": "stdout",
     "output_type": "stream",
     "text": [
      "0.2.3a5\n"
     ]
    }
   ],
   "source": [
    "import ipylivebash\n",
    "print(ipylivebash.__version__)"
   ]
  },
  {
   "cell_type": "code",
   "execution_count": 3,
   "metadata": {},
   "outputs": [
    {
     "data": {
      "application/vnd.jupyter.widget-view+json": {
       "model_id": "471ca8ec030048f58839245eda3ab70d",
       "version_major": 2,
       "version_minor": 0
      },
      "text/plain": []
     },
     "metadata": {},
     "output_type": "display_data"
    }
   ],
   "source": [
    "%%livebash \n",
    "\n",
    "ls"
   ]
  },
  {
   "cell_type": "code",
   "execution_count": 3,
   "metadata": {},
   "outputs": [
    {
     "name": "stdout",
     "output_type": "stream",
     "text": [
      "Collecting ipylivebash==0.2.3a5\n",
      "  Using cached ipylivebash-0.2.3a5-py2.py3-none-any.whl (700 kB)\n",
      "Requirement already satisfied: ipywidgets>=7.0.0 in /Users/benlau/Development/miniconda3/envs/jupyter-devops/lib/python3.11/site-packages (from ipylivebash==0.2.3a5) (8.0.7)\n",
      "Requirement already satisfied: tabulate>=0.9.0 in /Users/benlau/Development/miniconda3/envs/jupyter-devops/lib/python3.11/site-packages (from ipylivebash==0.2.3a5) (0.9.0)\n",
      "Collecting psutil>=5.9.5 (from ipylivebash==0.2.3a5)\n",
      "  Using cached psutil-5.9.5-cp38-abi3-macosx_11_0_arm64.whl (246 kB)\n",
      "Requirement already satisfied: ipykernel>=4.5.1 in /Users/benlau/Development/miniconda3/envs/jupyter-devops/lib/python3.11/site-packages (from ipywidgets>=7.0.0->ipylivebash==0.2.3a5) (6.19.2)\n",
      "Requirement already satisfied: ipython>=6.1.0 in /Users/benlau/Development/miniconda3/envs/jupyter-devops/lib/python3.11/site-packages (from ipywidgets>=7.0.0->ipylivebash==0.2.3a5) (8.12.0)\n",
      "Requirement already satisfied: traitlets>=4.3.1 in /Users/benlau/Development/miniconda3/envs/jupyter-devops/lib/python3.11/site-packages (from ipywidgets>=7.0.0->ipylivebash==0.2.3a5) (5.7.1)\n",
      "Requirement already satisfied: widgetsnbextension~=4.0.7 in /Users/benlau/Development/miniconda3/envs/jupyter-devops/lib/python3.11/site-packages (from ipywidgets>=7.0.0->ipylivebash==0.2.3a5) (4.0.8)\n",
      "Requirement already satisfied: jupyterlab-widgets~=3.0.7 in /Users/benlau/Development/miniconda3/envs/jupyter-devops/lib/python3.11/site-packages (from ipywidgets>=7.0.0->ipylivebash==0.2.3a5) (3.0.8)\n",
      "Requirement already satisfied: appnope in /Users/benlau/Development/miniconda3/envs/jupyter-devops/lib/python3.11/site-packages (from ipykernel>=4.5.1->ipywidgets>=7.0.0->ipylivebash==0.2.3a5) (0.1.2)\n",
      "Requirement already satisfied: comm>=0.1.1 in /Users/benlau/Development/miniconda3/envs/jupyter-devops/lib/python3.11/site-packages (from ipykernel>=4.5.1->ipywidgets>=7.0.0->ipylivebash==0.2.3a5) (0.1.2)\n",
      "Requirement already satisfied: debugpy>=1.0 in /Users/benlau/Development/miniconda3/envs/jupyter-devops/lib/python3.11/site-packages (from ipykernel>=4.5.1->ipywidgets>=7.0.0->ipylivebash==0.2.3a5) (1.5.1)\n",
      "Requirement already satisfied: jupyter-client>=6.1.12 in /Users/benlau/Development/miniconda3/envs/jupyter-devops/lib/python3.11/site-packages (from ipykernel>=4.5.1->ipywidgets>=7.0.0->ipylivebash==0.2.3a5) (8.1.0)\n",
      "Requirement already satisfied: matplotlib-inline>=0.1 in /Users/benlau/Development/miniconda3/envs/jupyter-devops/lib/python3.11/site-packages (from ipykernel>=4.5.1->ipywidgets>=7.0.0->ipylivebash==0.2.3a5) (0.1.6)\n",
      "Requirement already satisfied: nest-asyncio in /Users/benlau/Development/miniconda3/envs/jupyter-devops/lib/python3.11/site-packages (from ipykernel>=4.5.1->ipywidgets>=7.0.0->ipylivebash==0.2.3a5) (1.5.6)\n",
      "Requirement already satisfied: packaging in /Users/benlau/Development/miniconda3/envs/jupyter-devops/lib/python3.11/site-packages (from ipykernel>=4.5.1->ipywidgets>=7.0.0->ipylivebash==0.2.3a5) (23.0)\n",
      "Requirement already satisfied: pyzmq>=17 in /Users/benlau/Development/miniconda3/envs/jupyter-devops/lib/python3.11/site-packages (from ipykernel>=4.5.1->ipywidgets>=7.0.0->ipylivebash==0.2.3a5) (25.1.0)\n",
      "Requirement already satisfied: tornado>=6.1 in /Users/benlau/Development/miniconda3/envs/jupyter-devops/lib/python3.11/site-packages (from ipykernel>=4.5.1->ipywidgets>=7.0.0->ipylivebash==0.2.3a5) (6.2)\n",
      "Requirement already satisfied: backcall in /Users/benlau/Development/miniconda3/envs/jupyter-devops/lib/python3.11/site-packages (from ipython>=6.1.0->ipywidgets>=7.0.0->ipylivebash==0.2.3a5) (0.2.0)\n",
      "Requirement already satisfied: decorator in /Users/benlau/Development/miniconda3/envs/jupyter-devops/lib/python3.11/site-packages (from ipython>=6.1.0->ipywidgets>=7.0.0->ipylivebash==0.2.3a5) (5.1.1)\n",
      "Requirement already satisfied: jedi>=0.16 in /Users/benlau/Development/miniconda3/envs/jupyter-devops/lib/python3.11/site-packages (from ipython>=6.1.0->ipywidgets>=7.0.0->ipylivebash==0.2.3a5) (0.18.1)\n",
      "Requirement already satisfied: pickleshare in /Users/benlau/Development/miniconda3/envs/jupyter-devops/lib/python3.11/site-packages (from ipython>=6.1.0->ipywidgets>=7.0.0->ipylivebash==0.2.3a5) (0.7.5)\n",
      "Requirement already satisfied: prompt-toolkit!=3.0.37,<3.1.0,>=3.0.30 in /Users/benlau/Development/miniconda3/envs/jupyter-devops/lib/python3.11/site-packages (from ipython>=6.1.0->ipywidgets>=7.0.0->ipylivebash==0.2.3a5) (3.0.36)\n",
      "Requirement already satisfied: pygments>=2.4.0 in /Users/benlau/Development/miniconda3/envs/jupyter-devops/lib/python3.11/site-packages (from ipython>=6.1.0->ipywidgets>=7.0.0->ipylivebash==0.2.3a5) (2.15.1)\n",
      "Requirement already satisfied: stack-data in /Users/benlau/Development/miniconda3/envs/jupyter-devops/lib/python3.11/site-packages (from ipython>=6.1.0->ipywidgets>=7.0.0->ipylivebash==0.2.3a5) (0.2.0)\n",
      "Requirement already satisfied: pexpect>4.3 in /Users/benlau/Development/miniconda3/envs/jupyter-devops/lib/python3.11/site-packages (from ipython>=6.1.0->ipywidgets>=7.0.0->ipylivebash==0.2.3a5) (4.8.0)\n",
      "Requirement already satisfied: parso<0.9.0,>=0.8.0 in /Users/benlau/Development/miniconda3/envs/jupyter-devops/lib/python3.11/site-packages (from jedi>=0.16->ipython>=6.1.0->ipywidgets>=7.0.0->ipylivebash==0.2.3a5) (0.8.3)\n",
      "Requirement already satisfied: jupyter-core!=5.0.*,>=4.12 in /Users/benlau/Development/miniconda3/envs/jupyter-devops/lib/python3.11/site-packages (from jupyter-client>=6.1.12->ipykernel>=4.5.1->ipywidgets>=7.0.0->ipylivebash==0.2.3a5) (5.3.0)\n",
      "Requirement already satisfied: python-dateutil>=2.8.2 in /Users/benlau/Development/miniconda3/envs/jupyter-devops/lib/python3.11/site-packages (from jupyter-client>=6.1.12->ipykernel>=4.5.1->ipywidgets>=7.0.0->ipylivebash==0.2.3a5) (2.8.2)\n",
      "Requirement already satisfied: ptyprocess>=0.5 in /Users/benlau/Development/miniconda3/envs/jupyter-devops/lib/python3.11/site-packages (from pexpect>4.3->ipython>=6.1.0->ipywidgets>=7.0.0->ipylivebash==0.2.3a5) (0.7.0)\n",
      "Requirement already satisfied: wcwidth in /Users/benlau/Development/miniconda3/envs/jupyter-devops/lib/python3.11/site-packages (from prompt-toolkit!=3.0.37,<3.1.0,>=3.0.30->ipython>=6.1.0->ipywidgets>=7.0.0->ipylivebash==0.2.3a5) (0.2.5)\n",
      "Requirement already satisfied: executing in /Users/benlau/Development/miniconda3/envs/jupyter-devops/lib/python3.11/site-packages (from stack-data->ipython>=6.1.0->ipywidgets>=7.0.0->ipylivebash==0.2.3a5) (0.8.3)\n",
      "Requirement already satisfied: asttokens in /Users/benlau/Development/miniconda3/envs/jupyter-devops/lib/python3.11/site-packages (from stack-data->ipython>=6.1.0->ipywidgets>=7.0.0->ipylivebash==0.2.3a5) (2.0.5)\n",
      "Requirement already satisfied: pure-eval in /Users/benlau/Development/miniconda3/envs/jupyter-devops/lib/python3.11/site-packages (from stack-data->ipython>=6.1.0->ipywidgets>=7.0.0->ipylivebash==0.2.3a5) (0.2.2)\n",
      "Requirement already satisfied: platformdirs>=2.5 in /Users/benlau/Development/miniconda3/envs/jupyter-devops/lib/python3.11/site-packages (from jupyter-core!=5.0.*,>=4.12->jupyter-client>=6.1.12->ipykernel>=4.5.1->ipywidgets>=7.0.0->ipylivebash==0.2.3a5) (2.5.2)\n",
      "Requirement already satisfied: six>=1.5 in /Users/benlau/Development/miniconda3/envs/jupyter-devops/lib/python3.11/site-packages (from python-dateutil>=2.8.2->jupyter-client>=6.1.12->ipykernel>=4.5.1->ipywidgets>=7.0.0->ipylivebash==0.2.3a5) (1.16.0)\n",
      "Installing collected packages: psutil, ipylivebash\n",
      "  Attempting uninstall: psutil\n",
      "    Found existing installation: psutil 5.9.0\n",
      "    Uninstalling psutil-5.9.0:\n",
      "      Successfully uninstalled psutil-5.9.0\n",
      "  Attempting uninstall: ipylivebash\n",
      "    Found existing installation: ipylivebash 0.2.1\n",
      "    Uninstalling ipylivebash-0.2.1:\n",
      "      Successfully uninstalled ipylivebash-0.2.1\n",
      "Successfully installed ipylivebash-0.2.3a5 psutil-5.9.5\n"
     ]
    }
   ],
   "source": [
    "!pip install ipylivebash==0.2.3a5"
   ]
  },
  {
   "cell_type": "code",
   "execution_count": null,
   "metadata": {},
   "outputs": [],
   "source": []
  }
 ],
 "metadata": {
  "kernelspec": {
   "display_name": "Python 3 (ipykernel)",
   "language": "python",
   "name": "python3"
  },
  "language_info": {
   "codemirror_mode": {
    "name": "ipython",
    "version": 3
   },
   "file_extension": ".py",
   "mimetype": "text/x-python",
   "name": "python",
   "nbconvert_exporter": "python",
   "pygments_lexer": "ipython3",
   "version": "3.11.4"
  },
  "widgets": {
   "application/vnd.jupyter.widget-state+json": {
    "state": {
     "471ca8ec030048f58839245eda3ab70d": {
      "model_module": "ipylivebash",
      "model_module_version": "0.2.3-alpha.5",
      "model_name": "LogViewModel",
      "state": {
       "height": 10,
       "layout": "IPY_MODEL_5d2d18440e264a35bae1af1d5b155bf5",
       "messages": [
        1,
        "Process finished with exit code 0"
       ],
       "notification_message": {},
       "notification_permission": "unknown",
       "script": "\nls\n",
       "session_id": "instance0002",
       "sessions": [
        {
         "id": "instance0001",
         "state": "Completed"
        },
        {
         "id": "instance0002",
         "state": "Completed"
        }
       ],
       "status_header": ""
      }
     },
     "5d2d18440e264a35bae1af1d5b155bf5": {
      "model_module": "@jupyter-widgets/base",
      "model_module_version": "2.0.0",
      "model_name": "LayoutModel",
      "state": {}
     },
     "7762423542804a4eb33b0d390a56ac02": {
      "model_module": "ipylivebash",
      "model_module_version": "0.2.3-alpha.5",
      "model_name": "LogViewModel",
      "state": {
       "height": 10,
       "layout": "IPY_MODEL_ca46ddf11cef44d7821534d2489f7f73",
       "messages": [
        1,
        "Process finished with exit code 0"
       ],
       "notification_message": {},
       "notification_permission": "unknown",
       "script": "\nls\n",
       "session_id": "instance0001",
       "sessions": [
        {
         "id": "instance0001",
         "state": "Completed"
        },
        {
         "id": "instance0002",
         "state": "Completed"
        }
       ],
       "status_header": ""
      }
     },
     "ca46ddf11cef44d7821534d2489f7f73": {
      "model_module": "@jupyter-widgets/base",
      "model_module_version": "2.0.0",
      "model_name": "LayoutModel",
      "state": {}
     }
    },
    "version_major": 2,
    "version_minor": 0
   }
  }
 },
 "nbformat": 4,
 "nbformat_minor": 4
}
